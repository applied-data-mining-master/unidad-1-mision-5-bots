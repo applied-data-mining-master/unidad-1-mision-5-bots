{
  "nbformat": 4,
  "nbformat_minor": 0,
  "metadata": {
    "kernelspec": {
      "display_name": "Python 3",
      "language": "python",
      "name": "python3"
    },
    "language_info": {
      "codemirror_mode": {
        "name": "ipython",
        "version": 3
      },
      "file_extension": ".py",
      "mimetype": "text/x-python",
      "name": "python",
      "nbconvert_exporter": "python",
      "pygments_lexer": "ipython3",
      "version": "3.8.5"
    },
    "colab": {
      "name": "Exercise1_04.ipynb",
      "provenance": [],
      "collapsed_sections": []
    }
  },
  "cells": [
    {
      "cell_type": "markdown",
      "metadata": {
        "id": "LskjnLEf7ca2"
      },
      "source": [
        "# Exercise 1.04: Tic-Tac-Toe Static Evaluation with a Heuristic Function\n",
        "In this exercise, you will be performing a static evaluation on the tic-tac-toe game using a heuristic function."
      ]
    },
    {
      "cell_type": "markdown",
      "metadata": {
        "id": "qPizOmtD7ca6"
      },
      "source": [
        "1.- Reuse the code from Steps 1–5 of Activity 1.01"
      ]
    },
    {
      "cell_type": "code",
      "metadata": {
        "id": "lq8FNd7D7ca8"
      },
      "source": [
        "from random import choice\r\n",
        "\r\n",
        "wins= [\r\n",
        "    [0, 1, 2],\r\n",
        "    [3, 4, 5],\r\n",
        "    [6, 7, 8],\r\n",
        "    [0, 3, 6],\r\n",
        "    [1, 4, 7],\r\n",
        "    [2, 5, 8],\r\n",
        "    [0, 4, 8],\r\n",
        "    [2, 4, 6]\r\n",
        "]\r\n",
        "\r\n",
        "EMPTY_SIGN='-'\r\n",
        "IA_SIGN='X'\r\n",
        "PLAYER_SIGN='O'\r\n",
        "\r\n",
        "def prtBoard(board):\r\n",
        "    cells=board\r\n",
        "    print('Fila/Col     1   2   3 ')\r\n",
        "    print('\\t1    ' + cells[0] + ' | ' + cells[1] + ' | ' + cells[2])\r\n",
        "    print('\\t    -----------')\r\n",
        "    print('\\t2    ' + cells[3] + ' | ' + cells[4] + ' | ' + cells[5])\r\n",
        "    print('\\t    -----------')\r\n",
        "    print('\\t3    ' + cells[6] + ' | ' + cells[7] + ' | ' + cells[8])\r\n",
        "\r\n",
        "def player_move(board, fila, columna):\r\n",
        "    while True:\r\n",
        "      index = 3 * (fila - 1) + (columna - 1)\r\n",
        "      if board[index] == EMPTY_SIGN:\r\n",
        "          return board[:index] + PLAYER_SIGN + board[index+1:]\r\n",
        "      else:\r\n",
        "        print('\\nFila: '+ str(fila) +' Columna: '+ str(columna))\r\n",
        "        print('Esta posicion ya esta ocupada, Elige otra celda...\\n\\n')\r\n",
        "        prtBoard(board)\r\n",
        "        fila = int(input('Ingresa la Fila: '))\r\n",
        "        columna = int(input('Ingresa la Columna: '))\r\n",
        "        \r\n",
        "def game_won_by(board):\r\n",
        "    for idx in wins:\r\n",
        "        if board[idx[0]] == board[idx[1]] == board[idx[2]] != EMPTY_SIGN:\r\n",
        "            return board[idx[0]]\r\n",
        "    return EMPTY_SIGN\r\n",
        "\r\n",
        "\r\n",
        "def juego_Gato():\r\n",
        "    fin= False\r\n",
        "    empty_cell_count = 9\r\n",
        "    board = EMPTY_SIGN * 9\r\n",
        "    print('TIC TAC TOE GAME\\n\\n')\r\n",
        "    nombre = input('Teclea tu Nombre: ')\r\n",
        "    print('Comienza el Juego!')\r\n",
        "    while empty_cell_count > 0 and not fin:\r\n",
        "        if empty_cell_count % 2 == 1:\r\n",
        "            print('\\n\\n\\nTurno de la IA\\n')\r\n",
        "            board = ia_move(board)\r\n",
        "        else:\r\n",
        "            print('\\n\\n\\nTurno de '+ nombre)\r\n",
        "            fila = int(input('Ingresa la Fila: '))\r\n",
        "            columna = int(input('Ingresa la Columna: '))\r\n",
        "            print('')\r\n",
        "            board = player_move(board, fila, columna)\r\n",
        "        prtBoard(board)\r\n",
        "        fin = game_won_by(board) != EMPTY_SIGN\r\n",
        "        empty_cell_count = sum(1 for cell in board if cell == EMPTY_SIGN) \r\n",
        "    print('Fin Del Juego.')"
      ],
      "execution_count": 2,
      "outputs": []
    },
    {
      "cell_type": "markdown",
      "metadata": {
        "id": "2pTcnaJU7ca-"
      },
      "source": [
        "2.- Create a function that takes the board as input and returns $0$ if the cell is empty, and $-1$ if it's not empty"
      ]
    },
    {
      "cell_type": "code",
      "metadata": {
        "id": "MQUhUxn87ca_"
      },
      "source": [
        "def boardEmpty(board):\r\n",
        "  lista= []\r\n",
        "  for cell in board:\r\n",
        "      if cell == EMPTY_SIGN:\r\n",
        "        lista.append(0)\r\n",
        "      else:\r\n",
        "        lista.append(-1)\r\n",
        "    \r\n",
        "  return lista\r\n",
        "\r\n",
        "\r\n"
      ],
      "execution_count": 3,
      "outputs": []
    },
    {
      "cell_type": "markdown",
      "metadata": {
        "id": "in0XvcBn7ca_"
      },
      "source": [
        "3.- Create a function that takes the utility vector of possible moves, takes three indices inside the utility vector representing a triple, and returns a function.\n",
        "\n",
        "  > **Hints**  \n",
        "  > the returned function will expect a `points` parameter and the `utilities` vector as input and will add points to each cell in $(i, j, k)$, as long as the original value of that cell is non-negative $(>=0)$. In other words, we increased the utility of empty cells only."
      ]
    },
    {
      "cell_type": "code",
      "metadata": {
        "id": "WmQXUZ3N7cbA"
      },
      "source": [
        "def generate_add_score(utilities, i, j, k):\r\n",
        "  def Fun_points(points):\r\n",
        "    utilities[i]+= points if utilities[i]>=0 else 0\r\n",
        "    utilities[j]+= points if utilities[j]>=0 else 0\r\n",
        "    utilities[k]+= points if utilities[k]>=0 else 0\r\n",
        "  return Fun_points\r\n",
        "  "
      ],
      "execution_count": 4,
      "outputs": []
    },
    {
      "cell_type": "markdown",
      "metadata": {
        "id": "_SiI8YeI7cbA"
      },
      "source": [
        "4.- Now, create the utility matrix belonging to any board constellation where you will add the `generate_add_score` function defined previously to update the score. You will also implement the rules that we discussed prior to this activity. These rules are as follows:\n",
        "  * Two AI signs in a row, column, or diagonal, and the third cell is empty: +1000 for the empty cell.\n",
        "  * The opponent has two signs in a row, column, or diagonal, and the third cell is empty: +100 for the empty cell.\n",
        "  * One AI sign in a row, column, or diagonal, and the other two cells are empty: +10 for the empty cells.\n",
        "  * No AI or opponent signs in a row, column, or diagonal: +1 for the empty cells."
      ]
    },
    {
      "cell_type": "code",
      "metadata": {
        "id": "-LIPDQXj7cbB"
      },
      "source": [
        "def utility_matrix(board):\r\n",
        "  utilities= boardEmpty(board)\r\n",
        "  for [ i, j, k] in wins:\r\n",
        "    add_puntos= generate_add_score(utilities, i, j, k)\r\n",
        "    tres = [board[i], board[j], board[k]]\r\n",
        "    if tres.count(EMPTY_SIGN) == 1:\r\n",
        "      if tres.count(IA_SIGN) == 2:\r\n",
        "        add_puntos(1000)\r\n",
        "      elif tres.count(PLAYER_SIGN) == 2:\r\n",
        "        add_puntos(100)\r\n",
        "    elif tres.count(EMPTY_SIGN) == 2 and tres.count(IA_SIGN) == 1:\r\n",
        "      add_puntos(10)\r\n",
        "    elif tres.count(EMPTY_SIGN) == 3:\r\n",
        "      add_puntos(1)\r\n",
        "  return utilities"
      ],
      "execution_count": 5,
      "outputs": []
    },
    {
      "cell_type": "markdown",
      "metadata": {
        "id": "9HAnDxVH7cbC"
      },
      "source": [
        "5.- Create a function that selects the move with the highest utility value. If multiple moves have the same utility, the function returns both moves"
      ]
    },
    {
      "cell_type": "code",
      "metadata": {
        "id": "p45GRFBV7cbC"
      },
      "source": [
        "def highest_utility(board, sign):\r\n",
        "    moves = list()\r\n",
        "    utilities = utility_matrix(board)\r\n",
        "\r\n",
        "    for idx in range(len(board)):\r\n",
        "        if utilities[idx] == max(utilities):\r\n",
        "            moves.append(board[:idx] + sign + board[idx+1:])\r\n",
        "\r\n",
        "    return moves"
      ],
      "execution_count": 6,
      "outputs": []
    },
    {
      "cell_type": "markdown",
      "metadata": {
        "id": "OgxOsbFu7cbC"
      },
      "source": [
        "6.- Run the application.\n",
        "\n",
        "Output:\n",
        "\n",
        "```\n",
        "step 0. Moves: 1\n",
        "step 1. Moves: 1\n",
        "step 2. Moves: 8\n",
        "step 3. Moves: 24\n",
        "step 4. Moves: 144\n",
        "step 5. Moves: 83\n",
        "step 6. Moves: 214\n",
        "step 7. Moves: 148\n",
        "step 8. Moves: 172\n",
        "First player wins: 504\n",
        "Second player wins: 12\n",
        "Draw 91\n",
        "Total 607\n",
        "```"
      ]
    },
    {
      "cell_type": "code",
      "metadata": {
        "id": "4wECXau27cbD",
        "colab": {
          "base_uri": "https://localhost:8080/"
        },
        "outputId": "01ece973-758e-4f46-8400-6a09afa8d5ee"
      },
      "source": [
        "def all_moves_from_board(board, sign):\r\n",
        "    move_list = list()\r\n",
        "\r\n",
        "    for index in range(len(board)):\r\n",
        "        if board[index] == EMPTY_SIGN:\r\n",
        "            move_list.append(board[:index] + sign + board[index + 1:])\r\n",
        "\r\n",
        "    return move_list\r\n",
        "\r\n",
        "\r\n",
        "def all_moves_from_board_list(board_list, sign):\r\n",
        "  moves = []\r\n",
        "  get_moves = highest_utility if sign == IA_SIGN else all_moves_from_board\r\n",
        "  for board in board_list:\r\n",
        "    moves.extend(get_moves(board, sign))\r\n",
        "  return moves\r\n",
        "\r\n",
        "def count_possibilities(): \r\n",
        "  lmoves = [EMPTY_SIGN * 9]\r\n",
        "  ia_wins = []\r\n",
        "  player_wins = []\r\n",
        "  for i in range(9):\r\n",
        "    print('Paso ' + str(i) + '. Movimientos: ' +  str(len(lmoves)))\r\n",
        "    sign = IA_SIGN if i % 2 == 0 else PLAYER_SIGN\r\n",
        "    lmoves = all_moves_from_board_list(lmoves, sign)\r\n",
        "    \r\n",
        "    for b in lmoves:\r\n",
        "      won_by = game_won_by(b)\r\n",
        "      if won_by == IA_SIGN:\r\n",
        "        ia_wins.append(b)\r\n",
        "        lmoves.remove(b)\r\n",
        "      elif won_by == PLAYER_SIGN:\r\n",
        "        player_wins.append(b)\r\n",
        "        lmoves.remove(b)\r\n",
        "  print('---Victorias---')\r\n",
        "  print('IA: ' + str(len(ia_wins)))\r\n",
        "  print('Jugador: ' + str(len(player_wins)))\r\n",
        "  print('Draw', str(len(lmoves)))\r\n",
        "  print('Total', str(len(ia_wins) + len(player_wins) +  len(lmoves)))\r\n",
        "  \r\n",
        "count_possibilities()"
      ],
      "execution_count": 7,
      "outputs": [
        {
          "output_type": "stream",
          "text": [
            "Paso 0. Movimientos: 1\n",
            "Paso 1. Movimientos: 1\n",
            "Paso 2. Movimientos: 8\n",
            "Paso 3. Movimientos: 24\n",
            "Paso 4. Movimientos: 144\n",
            "Paso 5. Movimientos: 83\n",
            "Paso 6. Movimientos: 214\n",
            "Paso 7. Movimientos: 148\n",
            "Paso 8. Movimientos: 172\n",
            "---Victorias---\n",
            "IA: 504\n",
            "Jugador: 12\n",
            "Draw 91\n",
            "Total 607\n"
          ],
          "name": "stdout"
        }
      ]
    }
  ]
}