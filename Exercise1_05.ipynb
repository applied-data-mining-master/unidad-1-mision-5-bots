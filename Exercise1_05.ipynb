{
  "nbformat": 4,
  "nbformat_minor": 0,
  "metadata": {
    "kernelspec": {
      "display_name": "Python 3",
      "language": "python",
      "name": "python3"
    },
    "language_info": {
      "codemirror_mode": {
        "name": "ipython",
        "version": 3
      },
      "file_extension": ".py",
      "mimetype": "text/x-python",
      "name": "python",
      "nbconvert_exporter": "python",
      "pygments_lexer": "ipython3",
      "version": "3.8.5"
    },
    "colab": {
      "name": "Exercise1_05.ipynb",
      "provenance": [],
      "collapsed_sections": []
    }
  },
  "cells": [
    {
      "cell_type": "markdown",
      "metadata": {
        "id": "VU-teDSKxaid"
      },
      "source": [
        "# Exercise 1.05: Finding the Shortest Path Using BFS\n",
        "\n",
        "In this exercise, we will be finding the shortest path to our goal using the BFS algorithm."
      ]
    },
    {
      "cell_type": "markdown",
      "metadata": {
        "id": "VITeHBH8xaij"
      },
      "source": [
        "1.- Begin by importing the math library"
      ]
    },
    {
      "cell_type": "code",
      "metadata": {
        "id": "I_ae0tz3xail"
      },
      "source": [
        "import math"
      ],
      "execution_count": 36,
      "outputs": []
    },
    {
      "cell_type": "markdown",
      "metadata": {
        "id": "sClifc7Kxait"
      },
      "source": [
        "2.- Describe the board of the Figure 1.14, the initial state, and the final state using Python.\n",
        "\n",
        "  > **Hints**  \n",
        "  >  * Create a function that returns a list of possible successors. Use tuples, where the first coordinate denotes the row number from $1$ to $7$ and the second coordinate denotes the column number from $1$ to $9$. Then use array comprehension to generate the successor states.\n",
        "  >  * The function generate all the possible moves from a current field that does not end up being blocked by an obstacle. Also add a filter to exclude moves that return to a field visited already to avoid infinite loops.\n",
        "  "
      ]
    },
    {
      "cell_type": "code",
      "metadata": {
        "id": "fdondBYWxaiy"
      },
      "source": [
        "size = (7, 9)\n",
        "start = (5, 3)\n",
        "end = (6, 9)\n",
        "muro = {(3, 4), (3, 5), (3, 6), (3, 7), (3, 8),(4, 5),(5, 5), (5, 7), (5, 9),(6, 2), (6, 3), (6, 4), (6, 5), (6, 7),(7, 7)}\n"
      ],
      "execution_count": 37,
      "outputs": []
    },
    {
      "cell_type": "markdown",
      "metadata": {
        "id": "uTscxNtSxai3"
      },
      "source": [
        "3.-  Implement the initial costs"
      ]
    },
    {
      "cell_type": "code",
      "metadata": {
        "id": "LpChQQo7xai9"
      },
      "source": [
        "def initialize_costs(size, start):\n",
        "    (x, y) = start\n",
        "    (h, w) = size\n",
        "    costs = [[math.inf] * w for i in range(h)]\n",
        "   \n",
        "    costs[x-1][y-1] = 0\n",
        "    return costs\n",
        "\n"
      ],
      "execution_count": 38,
      "outputs": []
    },
    {
      "cell_type": "markdown",
      "metadata": {
        "id": "JZSvObyexai-"
      },
      "source": [
        "4.- Implement the updated costs using `costs`, `current_node`, and `successor_node`"
      ]
    },
    {
      "cell_type": "code",
      "metadata": {
        "id": "4H79secAxai_"
      },
      "source": [
        "def update_costs(costs, N_actual, N_sucesor):\n",
        "    nuevoValor = costs[N_actual[0]-1][N_actual[1]-1] + 1\n",
        "    \n",
        "    for (a, b) in N_sucesor:\n",
        "        costs[a-1][b-1] = min(costs[a-1][b-1], nuevoValor)\n",
        "\n",
        "def NSucesores(state, visitados):\n",
        "    (row, col) = state\n",
        "    (max_row, max_col) = size\n",
        "    suc_estado = []\n",
        "    if row > 1:\n",
        "        suc_estado += [(row-1, col)]\n",
        "    if col > 1:\n",
        "        suc_estado += [(row, col-1)]\n",
        "    if row < max_row:\n",
        "        suc_estado += [(row+1, col)]\n",
        "    if col < max_col:\n",
        "        suc_estado += [(row, col+1)]\n",
        "    \n",
        "    sucesores=[]\n",
        "    for s in suc_estado:\n",
        "      if s not in visitados and  s not in muro:\n",
        "        sucesores.append(s)\n",
        "    \n",
        "    return sucesores\n",
        "        "
      ],
      "execution_count": 39,
      "outputs": []
    },
    {
      "cell_type": "markdown",
      "metadata": {
        "id": "J8zICIR1xajA"
      },
      "source": [
        "5.- Finally, implement the BFS algorithm to search the state of the tree and save the result in a variable called `bfs`.\n",
        "\n",
        "  > **Hints**  \n",
        "  > You can reuse the `bfs_tree` function that we looked at earlier in the Breadth First Search section. However, add the `update_costs` function to update the costs.\n",
        "\n",
        "The expected output is this:\n",
        "\n",
        "```\n",
        "[[6, 5, 4, 5, 6, 7, 8, 9, 10],\n",
        " [5, 4, 3, 4, 5, 6, 7, 8, 9],\n",
        " [4, 3, 2, inf, inf, inf, inf, inf, 10],\n",
        " [3, 2, 1, 2, inf, 12, 13, 12, 11],\n",
        " [2, 1, 0, 1, inf, 11, inf, 13, inf],\n",
        " [3, inf, inf, inf, inf, 10, inf, 14, 15],\n",
        " [4, 5, 6, 7, 8, 9, inf, 15, 16]]\n",
        "```"
      ]
    },
    {
      "cell_type": "code",
      "metadata": {
        "colab": {
          "base_uri": "https://localhost:8080/"
        },
        "id": "FDuYpnGhxajB",
        "outputId": "f4896f24-4f89-40cf-f30d-f725b773f323"
      },
      "source": [
        "def bfs_tree(nodo):\n",
        "    Nodos = [nodo]\n",
        "    Lis_nodo = []\n",
        "    costos = initialize_costs(size, start)\n",
        "\n",
        "    while len(Nodos) > 0:\n",
        "      N_actual = Nodos.pop(0)\n",
        "      Lis_nodo.append(N_actual)\n",
        "      nodoSig = NSucesores(N_actual, Lis_nodo)\n",
        "      update_costs(costos, N_actual, nodoSig)\n",
        "      Nodos.extend(nodoSig)\n",
        "    \n",
        "    return costos\n",
        "\n",
        "bfs = bfs_tree(start)\n",
        "bfs\n"
      ],
      "execution_count": 43,
      "outputs": [
        {
          "output_type": "execute_result",
          "data": {
            "text/plain": [
              "[[6, 5, 4, 5, 6, 7, 8, 9, 10],\n",
              " [5, 4, 3, 4, 5, 6, 7, 8, 9],\n",
              " [4, 3, 2, inf, inf, inf, inf, inf, 10],\n",
              " [3, 2, 1, 2, inf, 12, 13, 12, 11],\n",
              " [2, 1, 0, 1, inf, 11, inf, 13, inf],\n",
              " [3, inf, inf, inf, inf, 10, inf, 14, 15],\n",
              " [4, 5, 6, 7, 8, 9, inf, 15, 16]]"
            ]
          },
          "metadata": {
            "tags": []
          },
          "execution_count": 43
        }
      ]
    },
    {
      "cell_type": "markdown",
      "metadata": {
        "id": "IxNRRbFpxajC"
      },
      "source": [
        "6.- Measure the number of steps required to find the goal node and save the result in the bfs_v variable.\n",
        "\n",
        "  > **Hints**  \n",
        "  > Re define the `bfs_tree` and add a step counter variable in order to print the number of steps at the end of the search\n",
        "  \n",
        "Output\n",
        "\n",
        "```\n",
        "End node has been reached in 110 steps\n",
        "[[6, 5, 4, 5, 6, 7, 8, 9, 10],\n",
        " [5, 4, 3, 4, 5, 6, 7, 8, 9],\n",
        " [4, 3, 2, inf, inf, inf, inf, inf, 10],\n",
        " [3, 2, 1, 2, inf, 12, 13, 12, 11],\n",
        " [2, 1, 0, 1, inf, 11, inf, 13, inf],\n",
        " [3, inf, inf, inf, inf, 10, inf, 14, 15],\n",
        " [4, 5, 6, 7, 8, 9, inf, 15, 16]]\n",
        "```"
      ]
    },
    {
      "cell_type": "markdown",
      "metadata": {
        "id": "r28_FfFxxajU"
      },
      "source": [
        "In this exercise, we used the BFS algorithm to find the shortest path to the goal. It took BFS 110 steps to reach the goal. Now, we will learn about an algorithm that can find the shortest path from the start node to the goal node: the A* algorithm."
      ]
    },
    {
      "cell_type": "code",
      "metadata": {
        "colab": {
          "base_uri": "https://localhost:8080/"
        },
        "id": "zpO-QdHjxajf",
        "outputId": "e9ed3309-4ace-4147-eae8-6556ecd280d4"
      },
      "source": [
        "def bfs_tree_short(nodo):\n",
        "    Nodos = [nodo]\n",
        "    Lis_nodo = []\n",
        "    costos = initialize_costs(size, start)\n",
        "    cont = 0    \n",
        "    while len(Nodos) > 0:\n",
        "        cont += 1\n",
        "        N_actual = Nodos.pop(0)\n",
        "        Lis_nodo.append(N_actual)\n",
        "        nodoSig = NSucesores(N_actual, Lis_nodo)\n",
        "        update_costs(costos, N_actual, nodoSig)\n",
        "        Nodos.extend(nodoSig)\n",
        "    \n",
        "        if N_actual == end:\n",
        "            print('Nodo Encontrado en un total de ', cont, ' pasos \\n')\n",
        "            return costos\n",
        "    \n",
        "    return costos\n",
        "\n",
        "bfs_v = bfs_tree_short(start)\n",
        "bfs_v"
      ],
      "execution_count": 42,
      "outputs": [
        {
          "output_type": "stream",
          "text": [
            "Nodo Encontrado en un total de  110  pasos \n",
            "\n"
          ],
          "name": "stdout"
        },
        {
          "output_type": "execute_result",
          "data": {
            "text/plain": [
              "[[6, 5, 4, 5, 6, 7, 8, 9, 10],\n",
              " [5, 4, 3, 4, 5, 6, 7, 8, 9],\n",
              " [4, 3, 2, inf, inf, inf, inf, inf, 10],\n",
              " [3, 2, 1, 2, inf, 12, 13, 12, 11],\n",
              " [2, 1, 0, 1, inf, 11, inf, 13, inf],\n",
              " [3, inf, inf, inf, inf, 10, inf, 14, 15],\n",
              " [4, 5, 6, 7, 8, 9, inf, 15, 16]]"
            ]
          },
          "metadata": {
            "tags": []
          },
          "execution_count": 42
        }
      ]
    }
  ]
}